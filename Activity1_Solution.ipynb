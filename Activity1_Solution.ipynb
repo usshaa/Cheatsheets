{
  "nbformat": 4,
  "nbformat_minor": 0,
  "metadata": {
    "colab": {
      "provenance": [],
      "name": "Activity1_Solution.ipynb",
      "authorship_tag": "ABX9TyMFy6I0BdJsX94SmKxv0bFY",
      "include_colab_link": true
    },
    "kernelspec": {
      "name": "python3",
      "display_name": "Python 3"
    },
    "language_info": {
      "name": "python"
    }
  },
  "cells": [
    {
      "cell_type": "markdown",
      "metadata": {
        "id": "view-in-github",
        "colab_type": "text"
      },
      "source": [
        "<a href=\"https://colab.research.google.com/github/usshaa/Cheatsheets/blob/main/Activity1_Solution.ipynb\" target=\"_parent\"><img src=\"https://colab.research.google.com/assets/colab-badge.svg\" alt=\"Open In Colab\"/></a>"
      ]
    },
    {
      "cell_type": "markdown",
      "source": [
        "✅ **Task 1: Simple Password Checker**\n",
        "\n",
        "🎯 Goal:\n",
        "Ask the user to enter a password and check:\n",
        "\n",
        "* Is the password at least 6 characters long?\n",
        "\n",
        "👉 If yes, print: `\"Password accepted!\"`\n",
        "👉 If no, print: `\"Password too short!\"`"
      ],
      "metadata": {
        "id": "Xz0cQFBVTalI"
      }
    },
    {
      "cell_type": "code",
      "source": [
        "password = input(\"Enter your password: \")\n",
        "\n",
        "if len(password) >= 6:\n",
        "  print(\"Password accepted!\")\n",
        "else:\n",
        "  print(\"Password too short!\")"
      ],
      "metadata": {
        "id": "djVUFeVrQ8LA",
        "colab": {
          "base_uri": "https://localhost:8080/"
        },
        "outputId": "d1fa1379-fa0b-4ffe-9ccd-45ad9c664d3e"
      },
      "execution_count": null,
      "outputs": [
        {
          "output_type": "stream",
          "name": "stdout",
          "text": [
            "Enter your password: hello\n",
            "Password too short!\n"
          ]
        }
      ]
    },
    {
      "cell_type": "markdown",
      "source": [
        "✅ **Task 2: Total Price Calculator**\n",
        "\n",
        "🎯 Goal:\n",
        "Ask the user:\n",
        "\n",
        "* How many apples they want to buy\n",
        "* How many bananas they want to buy\n",
        "\n",
        "🍎 Apples cost RM2 each\n",
        "🍌 Bananas cost RM1 each\n",
        "\n",
        "👉 Print the total price."
      ],
      "metadata": {
        "id": "asRvCH_nTjqE"
      }
    },
    {
      "cell_type": "code",
      "source": [
        "apples = int(input(\"How many apples do you want to buy? \"))\n",
        "bananas = int(input(\"How many bananas do you want to buy? \"))\n",
        "\n",
        "apple_price = 2\n",
        "banana_price = 1\n",
        "\n",
        "total_price = (apples * apple_price) + (bananas * banana_price)\n",
        "\n",
        "print(f\"The total price is RM{total_price}\")"
      ],
      "metadata": {
        "id": "I5CBISqsRx-J",
        "colab": {
          "base_uri": "https://localhost:8080/"
        },
        "outputId": "86868dcb-7d53-4f46-951f-5050207e1df6"
      },
      "execution_count": null,
      "outputs": [
        {
          "output_type": "stream",
          "name": "stdout",
          "text": [
            "How many apples do you want to buy? 2\n",
            "How many bananas do you want to buy? 12\n",
            "The total price is RM16\n"
          ]
        }
      ]
    },
    {
      "cell_type": "markdown",
      "source": [
        "✅ **Task 3: What’s the Best Score?**\n",
        "\n",
        "🎯 Goal:\n",
        "Ask the user to enter 3 test scores.\n",
        "Then print:\n",
        "\n",
        "* The highest score\n",
        "* The lowest score\n",
        "* The average score"
      ],
      "metadata": {
        "id": "P9crP8IkTo4K"
      }
    },
    {
      "cell_type": "code",
      "source": [
        "score1 = float(input(\"Enter the first test score: \"))\n",
        "score2 = float(input(\"Enter the second test score: \"))\n",
        "score3 = float(input(\"Enter the third test score: \"))\n",
        "\n",
        "scores = [score1, score2, score3]\n",
        "\n",
        "highest_score = max(scores)\n",
        "lowest_score = min(scores)\n",
        "average_score = sum(scores) / len(scores)\n",
        "\n",
        "print(f\"The highest score is: {highest_score}\")\n",
        "print(f\"The lowest score is: {lowest_score}\")\n",
        "print(f\"The average score is: {average_score}\")"
      ],
      "metadata": {
        "colab": {
          "base_uri": "https://localhost:8080/"
        },
        "id": "w_zhUEH9KpBN",
        "outputId": "12229e56-d290-4bb5-a6d4-ff630db67bed"
      },
      "execution_count": null,
      "outputs": [
        {
          "output_type": "stream",
          "name": "stdout",
          "text": [
            "Enter the first test score: 45\n",
            "Enter the second test score: 47\n",
            "Enter the third test score: 48\n",
            "The highest score is: 48.0\n",
            "The lowest score is: 45.0\n",
            "The average score is: 46.666666666666664\n"
          ]
        }
      ]
    },
    {
      "cell_type": "markdown",
      "source": [
        "✅ **Task 4: Favorite Colors List**\n",
        "\n",
        "🎯 Goal:\n",
        "\n",
        "1. Create a list with 3 of your favorite colors\n",
        "2. Add one more color\n",
        "3. Remove one color\n",
        "4. Print the final list"
      ],
      "metadata": {
        "id": "3RqBwASQTrW-"
      }
    },
    {
      "cell_type": "code",
      "source": [
        "favorite_colors = [\"blue\", \"green\", \"red\"]\n",
        "favorite_colors.append(\"purple\")\n",
        "favorite_colors.remove(\"green\")\n",
        "favorite_colors"
      ],
      "metadata": {
        "id": "uLmCqcpzTtCq",
        "colab": {
          "base_uri": "https://localhost:8080/"
        },
        "outputId": "bb2f3456-9b99-4e10-c47b-7a787b06241d"
      },
      "execution_count": null,
      "outputs": [
        {
          "output_type": "execute_result",
          "data": {
            "text/plain": [
              "['blue', 'red', 'purple']"
            ]
          },
          "metadata": {},
          "execution_count": 4
        }
      ]
    },
    {
      "cell_type": "markdown",
      "source": [
        "✅ **Task 5: Say Your Name Backward**\n",
        "\n",
        "🎯 Goal:\n",
        "Ask the user to enter their name.\n",
        "👉 Print their name **in reverse order**.\n",
        "\n",
        "Example:\n",
        "Input: `Ali` → Output: `ilA`\n"
      ],
      "metadata": {
        "id": "ypuKX76UTtfy"
      }
    },
    {
      "cell_type": "code",
      "source": [
        "name = input(\"Enter your name: \")\n",
        "print(name[::-1])"
      ],
      "metadata": {
        "id": "WZbGXKA3TvSb",
        "colab": {
          "base_uri": "https://localhost:8080/"
        },
        "outputId": "9bf47d6c-03c6-4908-b8d9-00601503f358"
      },
      "execution_count": null,
      "outputs": [
        {
          "output_type": "stream",
          "name": "stdout",
          "text": [
            "Enter your name: Usha\n",
            "ahsU\n"
          ]
        }
      ]
    },
    {
      "cell_type": "code",
      "source": [],
      "metadata": {
        "id": "mO7ndURZK2Pp"
      },
      "execution_count": null,
      "outputs": []
    }
  ]
}