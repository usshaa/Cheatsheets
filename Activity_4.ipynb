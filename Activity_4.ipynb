{
  "nbformat": 4,
  "nbformat_minor": 0,
  "metadata": {
    "colab": {
      "provenance": [],
      "authorship_tag": "ABX9TyN/sy5jsbYRF/5AhUZOVxYU",
      "include_colab_link": true
    },
    "kernelspec": {
      "name": "python3",
      "display_name": "Python 3"
    },
    "language_info": {
      "name": "python"
    }
  },
  "cells": [
    {
      "cell_type": "markdown",
      "metadata": {
        "id": "view-in-github",
        "colab_type": "text"
      },
      "source": [
        "<a href=\"https://colab.research.google.com/github/usshaa/Cheatsheets/blob/main/Activity_4.ipynb\" target=\"_parent\"><img src=\"https://colab.research.google.com/assets/colab-badge.svg\" alt=\"Open In Colab\"/></a>"
      ]
    },
    {
      "cell_type": "markdown",
      "source": [
        "# College Placement Data Preprocessing Task\n",
        "\n",
        "### 🎯 Objective:\n",
        "\n",
        "Clean and prepare the dataset for further **analysis**, **visualization**, or **machine learning** tasks."
      ],
      "metadata": {
        "id": "BxlDOPGWhUo1"
      }
    },
    {
      "cell_type": "markdown",
      "source": [
        "### ✅ Exercise: Preprocess College Placement Data"
      ],
      "metadata": {
        "id": "hUiuOv2xhuRr"
      }
    },
    {
      "cell_type": "markdown",
      "source": [
        "### 🔶 Step 1: Import Libraries and Load Dataset"
      ],
      "metadata": {
        "id": "GlZPonYThw1O"
      }
    },
    {
      "cell_type": "code",
      "source": [
        "# Load raw dataset\n"
      ],
      "metadata": {
        "id": "sNujVcryhyQh"
      },
      "execution_count": 31,
      "outputs": []
    },
    {
      "cell_type": "code",
      "source": [
        "# Show first 5 rows\n"
      ],
      "metadata": {
        "id": "3GGrAEZhixMZ"
      },
      "execution_count": 28,
      "outputs": []
    },
    {
      "cell_type": "markdown",
      "source": [
        "### 🔶 Step 2: Explore Dataset Info & Missing Values"
      ],
      "metadata": {
        "id": "Hzw-xZTWhzi7"
      }
    },
    {
      "cell_type": "code",
      "source": [
        "# Check structure\n"
      ],
      "metadata": {
        "id": "-sQY88W0h8Jr"
      },
      "execution_count": 30,
      "outputs": []
    },
    {
      "cell_type": "code",
      "source": [
        "# Check missing values\n"
      ],
      "metadata": {
        "id": "FDyiKCfdizdV"
      },
      "execution_count": 29,
      "outputs": []
    },
    {
      "cell_type": "markdown",
      "source": [
        "### 🔶 Step 3: Handle Missing Values"
      ],
      "metadata": {
        "id": "To18uCWEiEH9"
      }
    },
    {
      "cell_type": "code",
      "source": [
        "# For simplicity, we fill missing salary with 0 for 'Not Placed'\n"
      ],
      "metadata": {
        "id": "7zxu7KaBiCJs"
      },
      "execution_count": null,
      "outputs": []
    },
    {
      "cell_type": "code",
      "source": [
        "# If any other missing values found, drop them\n",
        "\n"
      ],
      "metadata": {
        "id": "YJPi1yQgi377"
      },
      "execution_count": null,
      "outputs": []
    },
    {
      "cell_type": "code",
      "source": [
        "# Confirm again\n"
      ],
      "metadata": {
        "id": "x0m2MVxri5Nd"
      },
      "execution_count": null,
      "outputs": []
    },
    {
      "cell_type": "markdown",
      "source": [
        "### 🔶 Step 4: Create New Feature: Average Academic Score"
      ],
      "metadata": {
        "id": "H7_E_-nXiI88"
      }
    },
    {
      "cell_type": "code",
      "source": [
        "# Average of 10th, 12th, Degree, and MBA scores\n"
      ],
      "metadata": {
        "id": "2tYHHR4Kh9_O"
      },
      "execution_count": 22,
      "outputs": []
    },
    {
      "cell_type": "markdown",
      "source": [
        "### 🔶 Step 5: Standardize Categorical Values (Inconsistent Labels)"
      ],
      "metadata": {
        "id": "iP-XrfYuiM4C"
      }
    },
    {
      "cell_type": "code",
      "source": [
        "# Strip whitespace and capitalize labels\n"
      ],
      "metadata": {
        "id": "5IRVZLeaiOWj"
      },
      "execution_count": 23,
      "outputs": []
    },
    {
      "cell_type": "markdown",
      "source": [
        "### 🔶 Step 6: Encode Categorical Variables\n"
      ],
      "metadata": {
        "id": "mVFTwLiziULl"
      }
    },
    {
      "cell_type": "code",
      "source": [
        "# Encode gender\n"
      ],
      "metadata": {
        "id": "RefwMBmViRyk"
      },
      "execution_count": 24,
      "outputs": []
    },
    {
      "cell_type": "code",
      "source": [
        "# Encode placement status\n"
      ],
      "metadata": {
        "id": "WJj6I0sMi8-8"
      },
      "execution_count": null,
      "outputs": []
    },
    {
      "cell_type": "code",
      "source": [
        "# Encode binary work experience\n"
      ],
      "metadata": {
        "id": "jn2secugi-7w"
      },
      "execution_count": null,
      "outputs": []
    },
    {
      "cell_type": "markdown",
      "source": [
        "### 🔶 Step 7: Remove Duplicates (if any)"
      ],
      "metadata": {
        "id": "5T6TykL9iaZO"
      }
    },
    {
      "cell_type": "code",
      "source": [
        "# Check and drop duplicate rows\n"
      ],
      "metadata": {
        "id": "8xaadE1KiZ9y"
      },
      "execution_count": 25,
      "outputs": []
    },
    {
      "cell_type": "markdown",
      "source": [
        "### 🔶 Step 8: Detect Outliers (optional)"
      ],
      "metadata": {
        "id": "F_ORb_WUiesQ"
      }
    },
    {
      "cell_type": "code",
      "source": [
        "# Quick check for outliers in salary using IQR\n"
      ],
      "metadata": {
        "id": "Iupx7DX6ieQc"
      },
      "execution_count": 26,
      "outputs": []
    },
    {
      "cell_type": "code",
      "source": [
        "# Detect outliers\n",
        "\n"
      ],
      "metadata": {
        "id": "owTC0_MPjBjG"
      },
      "execution_count": null,
      "outputs": []
    },
    {
      "cell_type": "markdown",
      "source": [
        "### 🔶 Step 9: Save Cleaned Data for ML / Viz"
      ],
      "metadata": {
        "id": "c0y5YiLBioI2"
      }
    },
    {
      "cell_type": "code",
      "source": [
        "# Save cleaned dataset\n"
      ],
      "metadata": {
        "id": "ouPA5Bs7imxj"
      },
      "execution_count": 27,
      "outputs": []
    },
    {
      "cell_type": "code",
      "source": [],
      "metadata": {
        "id": "JWTpjVrgisS0"
      },
      "execution_count": null,
      "outputs": []
    }
  ]
}