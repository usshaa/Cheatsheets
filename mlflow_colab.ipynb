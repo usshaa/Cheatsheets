{
  "nbformat": 4,
  "nbformat_minor": 0,
  "metadata": {
    "colab": {
      "provenance": [],
      "authorship_tag": "ABX9TyPrCE/mJlKW8KW264Wmv3e6",
      "include_colab_link": true
    },
    "kernelspec": {
      "name": "python3",
      "display_name": "Python 3"
    },
    "language_info": {
      "name": "python"
    }
  },
  "cells": [
    {
      "cell_type": "markdown",
      "metadata": {
        "id": "view-in-github",
        "colab_type": "text"
      },
      "source": [
        "<a href=\"https://colab.research.google.com/github/usshaa/Cheatsheets/blob/main/mlflow_colab.ipynb\" target=\"_parent\"><img src=\"https://colab.research.google.com/assets/colab-badge.svg\" alt=\"Open In Colab\"/></a>"
      ]
    },
    {
      "cell_type": "code",
      "source": [
        "!pip install mlflow -q\n",
        "!pip install pyngrok -q"
      ],
      "metadata": {
        "id": "1bxMv5Q0_RoK"
      },
      "execution_count": 14,
      "outputs": []
    },
    {
      "cell_type": "code",
      "source": [
        "import mlflow\n",
        "import subprocess\n",
        "from pyngrok import ngrok, conf\n",
        "import getpass"
      ],
      "metadata": {
        "id": "dUcX2_HjxU4y"
      },
      "execution_count": 15,
      "outputs": []
    },
    {
      "cell_type": "code",
      "execution_count": 16,
      "metadata": {
        "colab": {
          "base_uri": "https://localhost:8080/"
        },
        "id": "xFyI9RK5_KV9",
        "outputId": "39cdc92c-515a-4ce7-ba9f-47509f9fee46"
      },
      "outputs": [
        {
          "output_type": "execute_result",
          "data": {
            "text/plain": [
              "<Popen: returncode: None args: ['mlflow', 'ui', '--backend-store-uri', 'sqli...>"
            ]
          },
          "metadata": {},
          "execution_count": 16
        }
      ],
      "source": [
        "# Define the MLflow tracking URI with SQLite\n",
        "MLFLOW_TRACKING_URI = \"sqlite:///mlflow.db\"\n",
        "\n",
        "# Start the MLflow server using subprocess\n",
        "subprocess.Popen([\"mlflow\", \"ui\", \"--backend-store-uri\", MLFLOW_TRACKING_URI, \"--port\", \"5000\"])"
      ]
    },
    {
      "cell_type": "code",
      "source": [
        "!hostname -I"
      ],
      "metadata": {
        "colab": {
          "base_uri": "https://localhost:8080/"
        },
        "id": "JLTRmCpVv00E",
        "outputId": "f375654e-086e-46ac-db59-1605e71e951e"
      },
      "execution_count": 6,
      "outputs": [
        {
          "output_type": "stream",
          "name": "stdout",
          "text": [
            "172.28.0.12 \n"
          ]
        }
      ]
    },
    {
      "cell_type": "code",
      "source": [
        "# Set MLflow tracking URI\n",
        "mlflow.set_tracking_uri(MLFLOW_TRACKING_URI)"
      ],
      "metadata": {
        "id": "oMItvbxd_MM3"
      },
      "execution_count": 17,
      "outputs": []
    },
    {
      "cell_type": "code",
      "source": [
        "# Set or create an experiment\n",
        "mlflow.set_experiment(\"BD House Price Prediction\")"
      ],
      "metadata": {
        "colab": {
          "base_uri": "https://localhost:8080/"
        },
        "id": "7d--L-y63Qcl",
        "outputId": "89987638-45df-4e14-e62b-e80e00219c03"
      },
      "execution_count": 18,
      "outputs": [
        {
          "output_type": "stream",
          "name": "stderr",
          "text": [
            "2025/06/02 04:18:57 INFO mlflow.tracking.fluent: Experiment with name 'BD House Price Prediction' does not exist. Creating a new experiment.\n"
          ]
        },
        {
          "output_type": "execute_result",
          "data": {
            "text/plain": [
              "<Experiment: artifact_location='/content/mlruns/1', creation_time=1748837937214, experiment_id='1', last_update_time=1748837937214, lifecycle_stage='active', name='BD House Price Prediction', tags={}>"
            ]
          },
          "metadata": {},
          "execution_count": 18
        }
      ]
    },
    {
      "cell_type": "code",
      "source": [
        "# Set up ngrok for exposing the MLflow UI\n",
        "print(\"Enter your authtoken, which can be copied from https://dashboard.ngrok.com/auth\")\n",
        "conf.get_default().auth_token = getpass.getpass()"
      ],
      "metadata": {
        "colab": {
          "base_uri": "https://localhost:8080/"
        },
        "id": "yy40COvK3SvC",
        "outputId": "37b8696f-dddf-4b84-f2db-72ea17f74086"
      },
      "execution_count": 19,
      "outputs": [
        {
          "name": "stdout",
          "output_type": "stream",
          "text": [
            "Enter your authtoken, which can be copied from https://dashboard.ngrok.com/auth\n",
            "··········\n"
          ]
        }
      ]
    },
    {
      "cell_type": "code",
      "source": [
        "# Expose the MLflow UI on port 5000\n",
        "port = 5000\n",
        "public_url = ngrok.connect(port).public_url\n",
        "print(f' * ngrok tunnel \"{public_url}\" -> \"http://127.0.0.1:{port}\"')"
      ],
      "metadata": {
        "colab": {
          "base_uri": "https://localhost:8080/"
        },
        "id": "hsmEFZLa3Xfm",
        "outputId": "49d1af25-7e4f-41a7-a296-3e9b7c53a4ec"
      },
      "execution_count": 20,
      "outputs": [
        {
          "output_type": "stream",
          "name": "stdout",
          "text": [
            " * ngrok tunnel \"https://7452-34-150-238-168.ngrok-free.app\" -> \"http://127.0.0.1:5000\"\n"
          ]
        }
      ]
    },
    {
      "cell_type": "code",
      "source": [
        "!hostname -I"
      ],
      "metadata": {
        "colab": {
          "base_uri": "https://localhost:8080/"
        },
        "id": "E1H60S905Ndv",
        "outputId": "6526310b-658c-4aa5-d926-91f0f08653ce"
      },
      "execution_count": 22,
      "outputs": [
        {
          "output_type": "stream",
          "name": "stdout",
          "text": [
            "172.28.0.12 \n"
          ]
        }
      ]
    },
    {
      "cell_type": "code",
      "source": [
        "# Start an MLflow run\n",
        "with mlflow.start_run():\n",
        "    # Log parameters and metrics\n",
        "    mlflow.log_param(\"learning_rate\", 0.01)\n",
        "    mlflow.log_metric(\"rmse\", 0.25)\n",
        "    print(\"Run logged successfully!\")"
      ],
      "metadata": {
        "colab": {
          "base_uri": "https://localhost:8080/"
        },
        "id": "RNzJKdsy3tuP",
        "outputId": "ffa7cd71-e5bd-4337-a828-b909e5e84572"
      },
      "execution_count": 21,
      "outputs": [
        {
          "output_type": "stream",
          "name": "stdout",
          "text": [
            "Run logged successfully!\n"
          ]
        }
      ]
    },
    {
      "cell_type": "code",
      "source": [],
      "metadata": {
        "id": "qMI3g2ON4eDP"
      },
      "execution_count": null,
      "outputs": []
    }
  ]
}