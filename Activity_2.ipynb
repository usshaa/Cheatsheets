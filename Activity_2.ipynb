{
  "nbformat": 4,
  "nbformat_minor": 0,
  "metadata": {
    "colab": {
      "provenance": [],
      "authorship_tag": "ABX9TyO+O5mAknGyRkwWEBytCLBl",
      "include_colab_link": true
    },
    "kernelspec": {
      "name": "python3",
      "display_name": "Python 3"
    },
    "language_info": {
      "name": "python"
    }
  },
  "cells": [
    {
      "cell_type": "markdown",
      "metadata": {
        "id": "view-in-github",
        "colab_type": "text"
      },
      "source": [
        "<a href=\"https://colab.research.google.com/github/usshaa/Cheatsheets/blob/main/Activity_2.ipynb\" target=\"_parent\"><img src=\"https://colab.research.google.com/assets/colab-badge.svg\" alt=\"Open In Colab\"/></a>"
      ]
    },
    {
      "cell_type": "markdown",
      "source": [
        "https://www.kaggle.com/api/v1/datasets/download/durgeshrao9993/college-placement-data-set\n",
        "\n",
        "\n",
        "### 📘 **College Placement Data Manipulation Task**\n",
        "\n",
        "#### 🎯 **Objective:**\n",
        "\n",
        "Perform basic data manipulation tasks on the College Placement Dataset to understand the structure, clean the data, and derive meaningful insights."
      ],
      "metadata": {
        "id": "wzNeEFa8XTTx"
      }
    },
    {
      "cell_type": "markdown",
      "source": [
        "#### 🔹 **Step 1: Import Necessary Libraries**"
      ],
      "metadata": {
        "id": "DGdMKAjPbGuC"
      }
    },
    {
      "cell_type": "code",
      "source": [],
      "metadata": {
        "id": "-P2Eur-eXqbO"
      },
      "execution_count": null,
      "outputs": []
    },
    {
      "cell_type": "markdown",
      "source": [
        "#### 🔹 **Step 2: Load the Dataset**"
      ],
      "metadata": {
        "id": "sBXCCSYmbKRm"
      }
    },
    {
      "cell_type": "code",
      "source": [],
      "metadata": {
        "id": "QGHf1lHabOqp"
      },
      "execution_count": null,
      "outputs": []
    },
    {
      "cell_type": "markdown",
      "source": [
        "#### 🔹 **Step 3: Understand the Dataset**"
      ],
      "metadata": {
        "id": "hoW2UdaDbQ5f"
      }
    },
    {
      "cell_type": "code",
      "source": [],
      "metadata": {
        "id": "haob65WcbQqb"
      },
      "execution_count": null,
      "outputs": []
    },
    {
      "cell_type": "markdown",
      "source": [
        "#### 🔹 **Step 4: Data Cleaning**"
      ],
      "metadata": {
        "id": "DxMe519wbW0C"
      }
    },
    {
      "cell_type": "code",
      "source": [],
      "metadata": {
        "id": "qJMs3JkLbZq9"
      },
      "execution_count": null,
      "outputs": []
    },
    {
      "cell_type": "markdown",
      "source": [
        "#### 🔹 **Step 5: Data Transformation**\n",
        "\n",
        "* **Convert Categorical Variables:**"
      ],
      "metadata": {
        "id": "7HAaKvhpbaqn"
      }
    },
    {
      "cell_type": "code",
      "source": [],
      "metadata": {
        "id": "k2R4tTs3bg86"
      },
      "execution_count": null,
      "outputs": []
    },
    {
      "cell_type": "markdown",
      "source": [
        "* **Create a New Column:**"
      ],
      "metadata": {
        "id": "xq-XfY6sbiXr"
      }
    },
    {
      "cell_type": "code",
      "source": [],
      "metadata": {
        "id": "Na1laboGblYd"
      },
      "execution_count": null,
      "outputs": []
    },
    {
      "cell_type": "markdown",
      "source": [
        "#### 🔹 **Step 6: Data Aggregation**\n",
        "\n",
        "* **Average Salary by Specialization:**"
      ],
      "metadata": {
        "id": "iYebujKFbmzT"
      }
    },
    {
      "cell_type": "code",
      "source": [],
      "metadata": {
        "id": "S4IV8_Ffbp0A"
      },
      "execution_count": null,
      "outputs": []
    },
    {
      "cell_type": "markdown",
      "source": [
        "#### 🔹 **Step 7: Save the Cleaned Dataset**"
      ],
      "metadata": {
        "id": "dbkkPB9ubq98"
      }
    },
    {
      "cell_type": "code",
      "source": [],
      "metadata": {
        "id": "VsGNP8lIbuAh"
      },
      "execution_count": null,
      "outputs": []
    }
  ]
}