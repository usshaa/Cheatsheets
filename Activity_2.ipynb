{
  "nbformat": 4,
  "nbformat_minor": 0,
  "metadata": {
    "colab": {
      "provenance": [],
      "authorship_tag": "ABX9TyMkp3+V4W8I7chNnwcBMoIq",
      "include_colab_link": true
    },
    "kernelspec": {
      "name": "python3",
      "display_name": "Python 3"
    },
    "language_info": {
      "name": "python"
    }
  },
  "cells": [
    {
      "cell_type": "markdown",
      "metadata": {
        "id": "view-in-github",
        "colab_type": "text"
      },
      "source": [
        "<a href=\"https://colab.research.google.com/github/usshaa/Cheatsheets/blob/main/Activity_2.ipynb\" target=\"_parent\"><img src=\"https://colab.research.google.com/assets/colab-badge.svg\" alt=\"Open In Colab\"/></a>"
      ]
    },
    {
      "cell_type": "markdown",
      "source": [
        "https://www.kaggle.com/api/v1/datasets/download/durgeshrao9993/college-placement-data-set\n"
      ],
      "metadata": {
        "id": "wzNeEFa8XTTx"
      }
    },
    {
      "cell_type": "markdown",
      "source": [
        "# College Placement Data Manipulation Task\n",
        "\n",
        "### Scenario:\n",
        "\n",
        "You are a data analyst at a college placement cell. Your task is to clean and analyze placement data to understand student profiles and placement outcomes. This will help the team focus on improving placement strategies."
      ],
      "metadata": {
        "id": "DGdMKAjPbGuC"
      }
    },
    {
      "cell_type": "markdown",
      "source": [
        "### ✅ Exercise: Data Cleaning and Analysis on College Placement Data"
      ],
      "metadata": {
        "id": "YxX1gX3DdYEa"
      }
    },
    {
      "cell_type": "markdown",
      "source": [
        "### 🔶 Step 1: Load the dataset"
      ],
      "metadata": {
        "id": "5pYPyRVydbsr"
      }
    },
    {
      "cell_type": "code",
      "source": [],
      "metadata": {
        "id": "VsGNP8lIbuAh"
      },
      "execution_count": null,
      "outputs": []
    },
    {
      "cell_type": "markdown",
      "source": [
        "### 🔶 Step 2: Check for missing data and handle it"
      ],
      "metadata": {
        "id": "ESZi7XzcderS"
      }
    },
    {
      "cell_type": "code",
      "source": [
        "# Check for missing values"
      ],
      "metadata": {
        "id": "_9CnU9tldsJw"
      },
      "execution_count": 13,
      "outputs": []
    },
    {
      "cell_type": "code",
      "source": [
        "# Fill missing salary with 0 (assuming not placed means no salary)"
      ],
      "metadata": {
        "id": "Lvv_HzODdte2"
      },
      "execution_count": 14,
      "outputs": []
    },
    {
      "cell_type": "markdown",
      "source": [
        "### 🔶 Step 3: Convert 'Work exp' and 'status' columns to binary"
      ],
      "metadata": {
        "id": "o-VRBlWydncM"
      }
    },
    {
      "cell_type": "code",
      "source": [
        "# Map Yes/No to 1/0 for 'Work exp'\n"
      ],
      "metadata": {
        "id": "Qxr0r7hxdmME"
      },
      "execution_count": 16,
      "outputs": []
    },
    {
      "cell_type": "code",
      "source": [
        "# Map status to 1 for Placed, 0 for Not Placed"
      ],
      "metadata": {
        "id": "BaRtu4_md7Lt"
      },
      "execution_count": 17,
      "outputs": []
    },
    {
      "cell_type": "markdown",
      "source": [
        "### 🔶 Step 4: Calculate average academic score for each student"
      ],
      "metadata": {
        "id": "4EXRT-p6d4Ts"
      }
    },
    {
      "cell_type": "code",
      "source": [
        "# Calculate average score across 10th %, 12th %, Degree %, and MBA %"
      ],
      "metadata": {
        "id": "reW8VbY6dz20"
      },
      "execution_count": 18,
      "outputs": []
    },
    {
      "cell_type": "markdown",
      "source": [
        "### 🔶 Step 5: Find the average salary of placed students by specialization"
      ],
      "metadata": {
        "id": "EkZx86B-d_05"
      }
    },
    {
      "cell_type": "code",
      "source": [],
      "metadata": {
        "id": "XTjJHoMueBno"
      },
      "execution_count": 17,
      "outputs": []
    },
    {
      "cell_type": "markdown",
      "source": [
        "### 🔶 Step 6: Count how many students from each '12th Stream' got placed vs not placed"
      ],
      "metadata": {
        "id": "P9LFxfYleCGc"
      }
    },
    {
      "cell_type": "code",
      "source": [],
      "metadata": {
        "id": "uurTOscTeHq2"
      },
      "execution_count": null,
      "outputs": []
    },
    {
      "cell_type": "markdown",
      "source": [
        "### 🔶 Step 7: Filter students who have work experience and got placed"
      ],
      "metadata": {
        "id": "hl5b5xEmeIub"
      }
    },
    {
      "cell_type": "code",
      "source": [],
      "metadata": {
        "id": "bM3KJZO_eMAg"
      },
      "execution_count": null,
      "outputs": []
    },
    {
      "cell_type": "markdown",
      "source": [
        "### 🔶 Step 8: Save the cleaned and enriched dataset to CSV"
      ],
      "metadata": {
        "id": "J_9dG5Y5eMen"
      }
    },
    {
      "cell_type": "code",
      "source": [],
      "metadata": {
        "id": "y8WKcxqeeOon"
      },
      "execution_count": null,
      "outputs": []
    }
  ]
}