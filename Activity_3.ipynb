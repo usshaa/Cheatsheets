{
  "nbformat": 4,
  "nbformat_minor": 0,
  "metadata": {
    "colab": {
      "provenance": [],
      "authorship_tag": "ABX9TyMIzvwiW2JN6vPBBRrR7DmC",
      "include_colab_link": true
    },
    "kernelspec": {
      "name": "python3",
      "display_name": "Python 3"
    },
    "language_info": {
      "name": "python"
    }
  },
  "cells": [
    {
      "cell_type": "markdown",
      "metadata": {
        "id": "view-in-github",
        "colab_type": "text"
      },
      "source": [
        "<a href=\"https://colab.research.google.com/github/usshaa/Cheatsheets/blob/main/Activity_3.ipynb\" target=\"_parent\"><img src=\"https://colab.research.google.com/assets/colab-badge.svg\" alt=\"Open In Colab\"/></a>"
      ]
    },
    {
      "cell_type": "markdown",
      "source": [
        "# College Placement Data Visualization Task\n",
        "\n",
        "\n",
        "\n",
        "### 🎯 Objective:\n",
        "\n",
        "Create basic visualizations to understand student placement data, analyze trends, and present insights clearly."
      ],
      "metadata": {
        "id": "9etkCmlRfQhM"
      }
    },
    {
      "cell_type": "markdown",
      "source": [
        "### ✅ Exercise: Visualize College Placement Data"
      ],
      "metadata": {
        "id": "t1dbIczEfdft"
      }
    },
    {
      "cell_type": "markdown",
      "source": [
        "### 🔶 Step 1: Import libraries and load cleaned data"
      ],
      "metadata": {
        "id": "VBGeMgE-fggI"
      }
    },
    {
      "cell_type": "code",
      "source": [
        "# Load cleaned data (assuming saved from previous task)\n",
        "\n",
        "# Quick peek at data\n"
      ],
      "metadata": {
        "id": "plglyS8mS-6V"
      },
      "execution_count": 19,
      "outputs": []
    },
    {
      "cell_type": "markdown",
      "source": [
        "### 🔶 Step 2: Plot Gender distribution of students"
      ],
      "metadata": {
        "id": "Lc9N1mVqfkjK"
      }
    },
    {
      "cell_type": "code",
      "source": [],
      "metadata": {
        "id": "-crN1mRSTUnj"
      },
      "execution_count": null,
      "outputs": []
    },
    {
      "cell_type": "markdown",
      "source": [
        "### 🔶 Step 3: Visualize Placement Status Count"
      ],
      "metadata": {
        "id": "SxnamtJCfxcr"
      }
    },
    {
      "cell_type": "code",
      "source": [],
      "metadata": {
        "id": "2fBIZt_sf0Fw"
      },
      "execution_count": null,
      "outputs": []
    },
    {
      "cell_type": "markdown",
      "source": [
        "### 🔶 Step 4: Boxplot of Salary by Specialisation (for placed students)"
      ],
      "metadata": {
        "id": "6cKSzc5Af1DJ"
      }
    },
    {
      "cell_type": "code",
      "source": [],
      "metadata": {
        "id": "X0q0ceqBf45m"
      },
      "execution_count": null,
      "outputs": []
    },
    {
      "cell_type": "markdown",
      "source": [
        "### 🔶 Step 5: Scatter plot of Average Academic Score vs Salary (only placed students)"
      ],
      "metadata": {
        "id": "xqG5MRcCf5zg"
      }
    },
    {
      "cell_type": "code",
      "source": [],
      "metadata": {
        "id": "TTMmXaiSf7SG"
      },
      "execution_count": null,
      "outputs": []
    },
    {
      "cell_type": "markdown",
      "source": [
        "### 🔶 Step 6: Bar plot of Placement Rate by 12th Stream"
      ],
      "metadata": {
        "id": "-DVi3o3Yf8KD"
      }
    },
    {
      "cell_type": "code",
      "source": [],
      "metadata": {
        "id": "W8qKsAnlgA7V"
      },
      "execution_count": null,
      "outputs": []
    },
    {
      "cell_type": "markdown",
      "source": [
        "### 🔶 Step 7: Heatmap of correlation between numeric columns"
      ],
      "metadata": {
        "id": "lyIhIsHOgBcL"
      }
    },
    {
      "cell_type": "code",
      "source": [],
      "metadata": {
        "id": "yjfeZbUzgEWn"
      },
      "execution_count": null,
      "outputs": []
    }
  ]
}