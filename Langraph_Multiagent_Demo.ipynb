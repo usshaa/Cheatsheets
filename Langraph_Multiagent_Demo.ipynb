{
  "nbformat": 4,
  "nbformat_minor": 0,
  "metadata": {
    "colab": {
      "provenance": [],
      "authorship_tag": "ABX9TyMCDTKjJhejLCI6zhOtUW/O",
      "include_colab_link": true
    },
    "kernelspec": {
      "name": "python3",
      "display_name": "Python 3"
    },
    "language_info": {
      "name": "python"
    }
  },
  "cells": [
    {
      "cell_type": "markdown",
      "metadata": {
        "id": "view-in-github",
        "colab_type": "text"
      },
      "source": [
        "<a href=\"https://colab.research.google.com/github/usshaa/Cheatsheets/blob/main/Langraph_Multiagent_Demo.ipynb\" target=\"_parent\"><img src=\"https://colab.research.google.com/assets/colab-badge.svg\" alt=\"Open In Colab\"/></a>"
      ]
    },
    {
      "cell_type": "markdown",
      "source": [
        "## LangGraph Terms\n",
        "\n",
        "---\n",
        "\n",
        "### **State**\n",
        "\n",
        "✅ *Think of state as your agent’s brain — where it remembers what happened at every step.*\n",
        "It stores inputs, outputs, decisions, and memory during the workflow.\n",
        "\n",
        "---\n",
        "\n",
        "### **Node**\n",
        "\n",
        "✅ *Think of a node as a task performer — it does one job, like calling an LLM, using a tool, or doing a calculation.*\n",
        "It takes the state as input, does something, and returns the updated state.\n",
        "\n",
        "---\n",
        "\n",
        "### **Edge**\n",
        "\n",
        "✅ *Think of edges as arrows showing the path between steps — they tell LangGraph what comes next.*\n",
        "You can have simple arrows or logic-based ones like “if this, then go there.”\n",
        "\n",
        "---\n",
        "\n",
        "### **Graph**\n",
        "\n",
        "✅ *Think of the graph as the roadmap of your app — it connects all nodes and shows the flow of logic.*\n",
        "It can go forward, loop, or branch like a mind map.\n",
        "\n",
        "---\n",
        "\n",
        "### **Agent**\n",
        "\n",
        "✅ *Think of an agent as a smart team member — it can think (LLM), use tools, and has its own memory.*\n",
        "LangGraph lets multiple agents work together on a shared task.\n",
        "\n",
        "---\n",
        "\n",
        "### **Conditional Edge**\n",
        "\n",
        "✅ *Think of it like an if-else decision — based on the state, it chooses where to go next.*\n",
        "Example: If LLM is unsure → ask another agent, else → finish.\n",
        "\n",
        "---\n",
        "\n",
        "### **Loop**\n",
        "\n",
        "✅ *Think of a loop as “try again until it works” — it repeats a node until a condition is met.*\n",
        "Good for re-asking questions or retrying when LLM gets it wrong.\n",
        "\n",
        "---\n",
        "\n",
        "### **Tool**\n",
        "\n",
        "✅ *Think of a tool as something the agent can use — like Google Search, a calculator, or an API.*\n",
        "It’s an external function the agent can call to fetch or process info.\n",
        "\n",
        "---\n",
        "\n",
        "### **Entry Point**\n",
        "\n",
        "✅ *Think of it as the starting gate — the first node that runs when you start the graph.*\n",
        "\n",
        "---\n",
        "\n",
        "### **Finish Point**\n",
        "\n",
        "✅ *Think of it as the final stop — the last node that completes the workflow and returns the final result.*\n",
        "\n",
        "---\n",
        "\n",
        "### **LangChain**\n",
        "\n",
        "✅ *Think of LangChain as the toolbox — LangGraph uses LangChain’s tools, LLMs, memory, and chains inside its nodes.*"
      ],
      "metadata": {
        "id": "3oFAdFELHoHH"
      }
    },
    {
      "cell_type": "markdown",
      "source": [
        "## Use Case: Multi-Agent GitHub Project Recommender\n",
        "\n",
        "---\n",
        "\n",
        "### System Overview\n",
        "\n",
        "* **User Input**: Keywords like \"chatbot\", \"sentiment analysis\", etc.\n",
        "* **Search Agent**: Uses Tavily or a tool to fetch GitHub links related to the keyword.\n",
        "* **Filter Agent**: Uses Gemini to filter useful projects.\n",
        "* **Summarizer Agent**: Uses Gemini to summarize & recommend top ones.\n",
        "\n",
        "---\n",
        "\n",
        "### Step 1: Install Dependencies"
      ],
      "metadata": {
        "id": "ewXher5lv05U"
      }
    },
    {
      "cell_type": "code",
      "source": [
        "!pip install langgraph langchain tavily-python langchain-google-genai"
      ],
      "metadata": {
        "colab": {
          "base_uri": "https://localhost:8080/"
        },
        "id": "qBBK144uv7Pm",
        "outputId": "ed129904-57b9-46e5-ec56-20b56902eb47"
      },
      "execution_count": 15,
      "outputs": [
        {
          "output_type": "stream",
          "name": "stdout",
          "text": [
            "Requirement already satisfied: langgraph in /usr/local/lib/python3.11/dist-packages (0.6.0)\n",
            "Requirement already satisfied: langchain in /usr/local/lib/python3.11/dist-packages (0.3.27)\n",
            "Requirement already satisfied: tavily-python in /usr/local/lib/python3.11/dist-packages (0.7.10)\n",
            "Requirement already satisfied: langchain-google-genai in /usr/local/lib/python3.11/dist-packages (2.1.8)\n",
            "Requirement already satisfied: langchain-core>=0.1 in /usr/local/lib/python3.11/dist-packages (from langgraph) (0.3.72)\n",
            "Requirement already satisfied: langgraph-checkpoint<3.0.0,>=2.1.0 in /usr/local/lib/python3.11/dist-packages (from langgraph) (2.1.1)\n",
            "Requirement already satisfied: langgraph-prebuilt<0.7.0,>=0.6.0 in /usr/local/lib/python3.11/dist-packages (from langgraph) (0.6.0)\n",
            "Requirement already satisfied: langgraph-sdk<0.3.0,>=0.2.0 in /usr/local/lib/python3.11/dist-packages (from langgraph) (0.2.0)\n",
            "Requirement already satisfied: pydantic>=2.7.4 in /usr/local/lib/python3.11/dist-packages (from langgraph) (2.11.7)\n",
            "Requirement already satisfied: xxhash>=3.5.0 in /usr/local/lib/python3.11/dist-packages (from langgraph) (3.5.0)\n",
            "Requirement already satisfied: langchain-text-splitters<1.0.0,>=0.3.9 in /usr/local/lib/python3.11/dist-packages (from langchain) (0.3.9)\n",
            "Requirement already satisfied: langsmith>=0.1.17 in /usr/local/lib/python3.11/dist-packages (from langchain) (0.4.8)\n",
            "Requirement already satisfied: SQLAlchemy<3,>=1.4 in /usr/local/lib/python3.11/dist-packages (from langchain) (2.0.41)\n",
            "Requirement already satisfied: requests<3,>=2 in /usr/local/lib/python3.11/dist-packages (from langchain) (2.32.3)\n",
            "Requirement already satisfied: PyYAML>=5.3 in /usr/local/lib/python3.11/dist-packages (from langchain) (6.0.2)\n",
            "Requirement already satisfied: tiktoken>=0.5.1 in /usr/local/lib/python3.11/dist-packages (from tavily-python) (0.9.0)\n",
            "Requirement already satisfied: httpx in /usr/local/lib/python3.11/dist-packages (from tavily-python) (0.28.1)\n",
            "Requirement already satisfied: filetype<2.0.0,>=1.2.0 in /usr/local/lib/python3.11/dist-packages (from langchain-google-genai) (1.2.0)\n",
            "Requirement already satisfied: google-ai-generativelanguage<0.7.0,>=0.6.18 in /usr/local/lib/python3.11/dist-packages (from langchain-google-genai) (0.6.18)\n",
            "Requirement already satisfied: google-api-core!=2.0.*,!=2.1.*,!=2.10.*,!=2.2.*,!=2.3.*,!=2.4.*,!=2.5.*,!=2.6.*,!=2.7.*,!=2.8.*,!=2.9.*,<3.0.0,>=1.34.1 in /usr/local/lib/python3.11/dist-packages (from google-api-core[grpc]!=2.0.*,!=2.1.*,!=2.10.*,!=2.2.*,!=2.3.*,!=2.4.*,!=2.5.*,!=2.6.*,!=2.7.*,!=2.8.*,!=2.9.*,<3.0.0,>=1.34.1->google-ai-generativelanguage<0.7.0,>=0.6.18->langchain-google-genai) (2.25.1)\n",
            "Requirement already satisfied: google-auth!=2.24.0,!=2.25.0,<3.0.0,>=2.14.1 in /usr/local/lib/python3.11/dist-packages (from google-ai-generativelanguage<0.7.0,>=0.6.18->langchain-google-genai) (2.38.0)\n",
            "Requirement already satisfied: proto-plus<2.0.0,>=1.22.3 in /usr/local/lib/python3.11/dist-packages (from google-ai-generativelanguage<0.7.0,>=0.6.18->langchain-google-genai) (1.26.1)\n",
            "Requirement already satisfied: protobuf!=4.21.0,!=4.21.1,!=4.21.2,!=4.21.3,!=4.21.4,!=4.21.5,<7.0.0,>=3.20.2 in /usr/local/lib/python3.11/dist-packages (from google-ai-generativelanguage<0.7.0,>=0.6.18->langchain-google-genai) (4.25.8)\n",
            "Requirement already satisfied: tenacity!=8.4.0,<10.0.0,>=8.1.0 in /usr/local/lib/python3.11/dist-packages (from langchain-core>=0.1->langgraph) (8.5.0)\n",
            "Requirement already satisfied: jsonpatch<2.0,>=1.33 in /usr/local/lib/python3.11/dist-packages (from langchain-core>=0.1->langgraph) (1.33)\n",
            "Requirement already satisfied: typing-extensions>=4.7 in /usr/local/lib/python3.11/dist-packages (from langchain-core>=0.1->langgraph) (4.14.1)\n",
            "Requirement already satisfied: packaging>=23.2 in /usr/local/lib/python3.11/dist-packages (from langchain-core>=0.1->langgraph) (23.2)\n",
            "Requirement already satisfied: ormsgpack>=1.10.0 in /usr/local/lib/python3.11/dist-packages (from langgraph-checkpoint<3.0.0,>=2.1.0->langgraph) (1.10.0)\n",
            "Requirement already satisfied: orjson>=3.10.1 in /usr/local/lib/python3.11/dist-packages (from langgraph-sdk<0.3.0,>=0.2.0->langgraph) (3.11.0)\n",
            "Requirement already satisfied: anyio in /usr/local/lib/python3.11/dist-packages (from httpx->tavily-python) (4.9.0)\n",
            "Requirement already satisfied: certifi in /usr/local/lib/python3.11/dist-packages (from httpx->tavily-python) (2025.7.14)\n",
            "Requirement already satisfied: httpcore==1.* in /usr/local/lib/python3.11/dist-packages (from httpx->tavily-python) (1.0.9)\n",
            "Requirement already satisfied: idna in /usr/local/lib/python3.11/dist-packages (from httpx->tavily-python) (3.10)\n",
            "Requirement already satisfied: h11>=0.16 in /usr/local/lib/python3.11/dist-packages (from httpcore==1.*->httpx->tavily-python) (0.16.0)\n",
            "Requirement already satisfied: requests-toolbelt<2.0.0,>=1.0.0 in /usr/local/lib/python3.11/dist-packages (from langsmith>=0.1.17->langchain) (1.0.0)\n",
            "Requirement already satisfied: zstandard<0.24.0,>=0.23.0 in /usr/local/lib/python3.11/dist-packages (from langsmith>=0.1.17->langchain) (0.23.0)\n",
            "Requirement already satisfied: annotated-types>=0.6.0 in /usr/local/lib/python3.11/dist-packages (from pydantic>=2.7.4->langgraph) (0.7.0)\n",
            "Requirement already satisfied: pydantic-core==2.33.2 in /usr/local/lib/python3.11/dist-packages (from pydantic>=2.7.4->langgraph) (2.33.2)\n",
            "Requirement already satisfied: typing-inspection>=0.4.0 in /usr/local/lib/python3.11/dist-packages (from pydantic>=2.7.4->langgraph) (0.4.1)\n",
            "Requirement already satisfied: charset-normalizer<4,>=2 in /usr/local/lib/python3.11/dist-packages (from requests<3,>=2->langchain) (3.4.2)\n",
            "Requirement already satisfied: urllib3<3,>=1.21.1 in /usr/local/lib/python3.11/dist-packages (from requests<3,>=2->langchain) (2.5.0)\n",
            "Requirement already satisfied: greenlet>=1 in /usr/local/lib/python3.11/dist-packages (from SQLAlchemy<3,>=1.4->langchain) (3.2.3)\n",
            "Requirement already satisfied: regex>=2022.1.18 in /usr/local/lib/python3.11/dist-packages (from tiktoken>=0.5.1->tavily-python) (2024.11.6)\n",
            "Requirement already satisfied: googleapis-common-protos<2.0.0,>=1.56.2 in /usr/local/lib/python3.11/dist-packages (from google-api-core!=2.0.*,!=2.1.*,!=2.10.*,!=2.2.*,!=2.3.*,!=2.4.*,!=2.5.*,!=2.6.*,!=2.7.*,!=2.8.*,!=2.9.*,<3.0.0,>=1.34.1->google-api-core[grpc]!=2.0.*,!=2.1.*,!=2.10.*,!=2.2.*,!=2.3.*,!=2.4.*,!=2.5.*,!=2.6.*,!=2.7.*,!=2.8.*,!=2.9.*,<3.0.0,>=1.34.1->google-ai-generativelanguage<0.7.0,>=0.6.18->langchain-google-genai) (1.70.0)\n",
            "Requirement already satisfied: grpcio<2.0.0,>=1.33.2 in /usr/local/lib/python3.11/dist-packages (from google-api-core[grpc]!=2.0.*,!=2.1.*,!=2.10.*,!=2.2.*,!=2.3.*,!=2.4.*,!=2.5.*,!=2.6.*,!=2.7.*,!=2.8.*,!=2.9.*,<3.0.0,>=1.34.1->google-ai-generativelanguage<0.7.0,>=0.6.18->langchain-google-genai) (1.74.0)\n",
            "Requirement already satisfied: grpcio-status<2.0.0,>=1.33.2 in /usr/local/lib/python3.11/dist-packages (from google-api-core[grpc]!=2.0.*,!=2.1.*,!=2.10.*,!=2.2.*,!=2.3.*,!=2.4.*,!=2.5.*,!=2.6.*,!=2.7.*,!=2.8.*,!=2.9.*,<3.0.0,>=1.34.1->google-ai-generativelanguage<0.7.0,>=0.6.18->langchain-google-genai) (1.62.3)\n",
            "Requirement already satisfied: cachetools<6.0,>=2.0.0 in /usr/local/lib/python3.11/dist-packages (from google-auth!=2.24.0,!=2.25.0,<3.0.0,>=2.14.1->google-ai-generativelanguage<0.7.0,>=0.6.18->langchain-google-genai) (5.5.2)\n",
            "Requirement already satisfied: pyasn1-modules>=0.2.1 in /usr/local/lib/python3.11/dist-packages (from google-auth!=2.24.0,!=2.25.0,<3.0.0,>=2.14.1->google-ai-generativelanguage<0.7.0,>=0.6.18->langchain-google-genai) (0.4.2)\n",
            "Requirement already satisfied: rsa<5,>=3.1.4 in /usr/local/lib/python3.11/dist-packages (from google-auth!=2.24.0,!=2.25.0,<3.0.0,>=2.14.1->google-ai-generativelanguage<0.7.0,>=0.6.18->langchain-google-genai) (4.9.1)\n",
            "Requirement already satisfied: jsonpointer>=1.9 in /usr/local/lib/python3.11/dist-packages (from jsonpatch<2.0,>=1.33->langchain-core>=0.1->langgraph) (3.0.0)\n",
            "Requirement already satisfied: sniffio>=1.1 in /usr/local/lib/python3.11/dist-packages (from anyio->httpx->tavily-python) (1.3.1)\n",
            "Requirement already satisfied: pyasn1<0.7.0,>=0.6.1 in /usr/local/lib/python3.11/dist-packages (from pyasn1-modules>=0.2.1->google-auth!=2.24.0,!=2.25.0,<3.0.0,>=2.14.1->google-ai-generativelanguage<0.7.0,>=0.6.18->langchain-google-genai) (0.6.1)\n"
          ]
        }
      ]
    },
    {
      "cell_type": "markdown",
      "source": [
        "### Step 3: Build Agent"
      ],
      "metadata": {
        "id": "CMTYmyKPwEu6"
      }
    },
    {
      "cell_type": "code",
      "source": [
        "from langchain_google_genai import ChatGoogleGenerativeAI\n",
        "from langgraph.graph import StateGraph, END\n",
        "from google.colab import userdata\n",
        "from langchain_community.tools.tavily_search import TavilySearchResults"
      ],
      "metadata": {
        "id": "-HZZNdcwwHky"
      },
      "execution_count": 16,
      "outputs": []
    },
    {
      "cell_type": "code",
      "source": [
        "GOOGLE_API_KEY = userdata.get('GOOGLE_API_KEY')\n",
        "TAVILY_API_KEY = userdata.get('TAVILY_API_KEY')\n",
        "if not GOOGLE_API_KEY:\n",
        "  raise ValueError(\"Please set your GOOGLE_API_KEY in Colab Secrets\")"
      ],
      "metadata": {
        "id": "f4m3BdJ5w9_x"
      },
      "execution_count": 17,
      "outputs": []
    },
    {
      "cell_type": "code",
      "source": [
        "# Choose a model that supports chat, e.g., 'gemini-1.5-flash-latest' or 'gemini-1.5-pro-latest'\n",
        "llm = ChatGoogleGenerativeAI(model=\"gemini-1.5-flash-latest\", google_api_key=GOOGLE_API_KEY)"
      ],
      "metadata": {
        "id": "ieqUsKFyzw18"
      },
      "execution_count": 19,
      "outputs": []
    },
    {
      "cell_type": "code",
      "source": [
        "search = TavilySearchResults(max_results=5,tavily_api_key = TAVILY_API_KEY)"
      ],
      "metadata": {
        "id": "Pd3gftoFwKBX"
      },
      "execution_count": 20,
      "outputs": []
    },
    {
      "cell_type": "code",
      "source": [
        "# Node 1: Search GitHub Repos via Tavily\n",
        "def search_agent(state):\n",
        "    keyword = state['keyword']\n",
        "    results = search.run(f\"site:github.com {keyword} project repo\")\n",
        "    state['raw_results'] = results\n",
        "    return state"
      ],
      "metadata": {
        "id": "2BnVSI3-xkMK"
      },
      "execution_count": 21,
      "outputs": []
    },
    {
      "cell_type": "code",
      "source": [
        "# Node 2: Filter GitHub links using Gemini\n",
        "def filter_agent(state):\n",
        "    raw = state['raw_results']\n",
        "    raw_text = \"\\n\".join([r[\"title\"] + \": \" + r[\"url\"] for r in raw])\n",
        "    prompt = f\"\"\"Here are some GitHub repo search results for '{state['keyword']}'.\n",
        "    Please select and list only the most relevant repos:\n",
        "\n",
        "    {raw_text}\n",
        "    \"\"\"\n",
        "    filtered = llm.invoke(prompt)\n",
        "    state['filtered_results'] = filtered.content\n",
        "    return state"
      ],
      "metadata": {
        "id": "HFTcadc4xmlX"
      },
      "execution_count": 22,
      "outputs": []
    },
    {
      "cell_type": "code",
      "source": [
        "# Node 3: Summarize and Recommend\n",
        "def summary_agent(state):\n",
        "    prompt = f\"\"\"You are a GitHub assistant. Based on these filtered results, write a brief, clear recommendation to the user:\n",
        "\n",
        "    {state['filtered_results']}\n",
        "    \"\"\"\n",
        "    summary = llm.invoke(prompt)\n",
        "    state['recommendation'] = summary.content\n",
        "    return state"
      ],
      "metadata": {
        "id": "TAQOAUsoxo8S"
      },
      "execution_count": 23,
      "outputs": []
    },
    {
      "cell_type": "code",
      "source": [
        "# LangGraph flow\n",
        "builder = StateGraph(dict)\n",
        "builder.add_node(\"search\", search_agent)\n",
        "builder.add_node(\"filter\", filter_agent)\n",
        "builder.add_node(\"summarize\", summary_agent)"
      ],
      "metadata": {
        "colab": {
          "base_uri": "https://localhost:8080/"
        },
        "id": "kdzAkLM8xtFP",
        "outputId": "cd90aed4-0049-44bd-aef2-f3d5f6cc5bb4"
      },
      "execution_count": 24,
      "outputs": [
        {
          "output_type": "execute_result",
          "data": {
            "text/plain": [
              "<langgraph.graph.state.StateGraph at 0x7f970622cc90>"
            ]
          },
          "metadata": {},
          "execution_count": 24
        }
      ]
    },
    {
      "cell_type": "code",
      "source": [
        "builder.set_entry_point(\"search\")\n",
        "builder.add_edge(\"search\", \"filter\")\n",
        "builder.add_edge(\"filter\", \"summarize\")\n",
        "builder.add_edge(\"summarize\", END)"
      ],
      "metadata": {
        "colab": {
          "base_uri": "https://localhost:8080/"
        },
        "id": "8euZIAvqxuvG",
        "outputId": "4d495c75-6507-490b-8b8b-18f64db207d0"
      },
      "execution_count": 25,
      "outputs": [
        {
          "output_type": "execute_result",
          "data": {
            "text/plain": [
              "<langgraph.graph.state.StateGraph at 0x7f970622cc90>"
            ]
          },
          "metadata": {},
          "execution_count": 25
        }
      ]
    },
    {
      "cell_type": "code",
      "source": [
        "app = builder.compile()"
      ],
      "metadata": {
        "id": "BnT-80-XxyP2"
      },
      "execution_count": 26,
      "outputs": []
    },
    {
      "cell_type": "markdown",
      "source": [
        "### Step 4: Run It"
      ],
      "metadata": {
        "id": "4dngXwrBx2Vq"
      }
    },
    {
      "cell_type": "code",
      "source": [
        "if __name__ == \"__main__\":\n",
        "    query = input(\"Enter keyword(s) to find GitHub projects: \")\n",
        "    result = app.invoke({\"keyword\": query})\n",
        "    print(\"\\nGemini Recommendation:\")\n",
        "    print(result['recommendation'])"
      ],
      "metadata": {
        "colab": {
          "base_uri": "https://localhost:8080/"
        },
        "id": "tAPyiuGex4TF",
        "outputId": "91506c67-e44f-43fd-966f-2cf252536b69"
      },
      "execution_count": 14,
      "outputs": [
        {
          "output_type": "stream",
          "name": "stdout",
          "text": [
            "Enter keyword(s) to find GitHub projects: Chatbot using gemini\n",
            "\n",
            "Gemini Recommendation:\n",
            "For Gemini-based chatbot projects, check out `tommanzur/chat-bot-gemini`, `FareedKhan-dev/Gemini-AI-chatbot`, `aayushai/Google-Gemini-Chatbot`, and  `Tahrim19/chatbot` (which uses the Google Gemini API).\n"
          ]
        }
      ]
    },
    {
      "cell_type": "markdown",
      "source": [
        "### 🔄 Agents Recap\n",
        "\n",
        "| Agent Name      | Purpose                                       |\n",
        "| --------------- | --------------------------------------------- |\n",
        "| `search_agent`  | Fetch GitHub links from search engine         |\n",
        "| `filter_agent`  | Use Gemini LLM to pick relevant repos         |\n",
        "| `summary_agent` | Use Gemini LLM to write user-friendly summary |"
      ],
      "metadata": {
        "id": "yWAm-TyfyRaF"
      }
    },
    {
      "cell_type": "code",
      "source": [],
      "metadata": {
        "id": "3QOg5rJVH_H7"
      },
      "execution_count": null,
      "outputs": []
    }
  ]
}