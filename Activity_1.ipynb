{
  "nbformat": 4,
  "nbformat_minor": 0,
  "metadata": {
    "colab": {
      "provenance": [],
      "authorship_tag": "ABX9TyPkUu2fr0aE/WaMUNo28zDC",
      "include_colab_link": true
    },
    "kernelspec": {
      "name": "python3",
      "display_name": "Python 3"
    },
    "language_info": {
      "name": "python"
    }
  },
  "cells": [
    {
      "cell_type": "markdown",
      "metadata": {
        "id": "view-in-github",
        "colab_type": "text"
      },
      "source": [
        "<a href=\"https://colab.research.google.com/github/usshaa/Cheatsheets/blob/main/Activity_1.ipynb\" target=\"_parent\"><img src=\"https://colab.research.google.com/assets/colab-badge.svg\" alt=\"Open In Colab\"/></a>"
      ]
    },
    {
      "cell_type": "markdown",
      "source": [
        "✅ **Task 1: Simple Password Checker**\n",
        "\n",
        "🎯 Goal:\n",
        "Ask the user to enter a password and check:\n",
        "\n",
        "* Is the password at least 6 characters long?\n",
        "\n",
        "👉 If yes, print: `\"Password accepted!\"`\n",
        "👉 If no, print: `\"Password too short!\"`"
      ],
      "metadata": {
        "id": "Xz0cQFBVTalI"
      }
    },
    {
      "cell_type": "code",
      "source": [],
      "metadata": {
        "id": "djVUFeVrQ8LA"
      },
      "execution_count": 3,
      "outputs": []
    },
    {
      "cell_type": "markdown",
      "source": [
        "✅ **Task 2: Total Price Calculator**\n",
        "\n",
        "🎯 Goal:\n",
        "Ask the user:\n",
        "\n",
        "* How many apples they want to buy\n",
        "* How many bananas they want to buy\n",
        "\n",
        "🍎 Apples cost RM2 each\n",
        "🍌 Bananas cost RM1 each\n",
        "\n",
        "👉 Print the total price."
      ],
      "metadata": {
        "id": "asRvCH_nTjqE"
      }
    },
    {
      "cell_type": "code",
      "source": [],
      "metadata": {
        "id": "I5CBISqsRx-J"
      },
      "execution_count": null,
      "outputs": []
    },
    {
      "cell_type": "markdown",
      "source": [
        "✅ **Task 3: What’s the Best Score?**\n",
        "\n",
        "🎯 Goal:\n",
        "Ask the user to enter 3 test scores.\n",
        "Then print:\n",
        "\n",
        "* The highest score\n",
        "* The lowest score\n",
        "* The average score"
      ],
      "metadata": {
        "id": "P9crP8IkTo4K"
      }
    },
    {
      "cell_type": "code",
      "source": [],
      "metadata": {
        "id": "OZyk5hEMTq2C"
      },
      "execution_count": null,
      "outputs": []
    },
    {
      "cell_type": "markdown",
      "source": [
        "✅ **Task 4: Favorite Colors List**\n",
        "\n",
        "🎯 Goal:\n",
        "\n",
        "1. Create a list with 3 of your favorite colors\n",
        "2. Add one more color\n",
        "3. Remove one color\n",
        "4. Print the final list"
      ],
      "metadata": {
        "id": "3RqBwASQTrW-"
      }
    },
    {
      "cell_type": "code",
      "source": [],
      "metadata": {
        "id": "uLmCqcpzTtCq"
      },
      "execution_count": null,
      "outputs": []
    },
    {
      "cell_type": "markdown",
      "source": [
        "✅ **Task 5: Say Your Name Backward**\n",
        "\n",
        "🎯 Goal:\n",
        "Ask the user to enter their name.\n",
        "👉 Print their name **in reverse order**.\n",
        "\n",
        "Example:\n",
        "Input: `Ali` → Output: `ilA`\n"
      ],
      "metadata": {
        "id": "ypuKX76UTtfy"
      }
    },
    {
      "cell_type": "code",
      "source": [],
      "metadata": {
        "id": "WZbGXKA3TvSb"
      },
      "execution_count": null,
      "outputs": []
    }
  ]
}