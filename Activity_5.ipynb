{
  "nbformat": 4,
  "nbformat_minor": 0,
  "metadata": {
    "colab": {
      "provenance": [],
      "authorship_tag": "ABX9TyMO7dJ0fdj+oVuY8zllniVj",
      "include_colab_link": true
    },
    "kernelspec": {
      "name": "python3",
      "display_name": "Python 3"
    },
    "language_info": {
      "name": "python"
    }
  },
  "cells": [
    {
      "cell_type": "markdown",
      "metadata": {
        "id": "view-in-github",
        "colab_type": "text"
      },
      "source": [
        "<a href=\"https://colab.research.google.com/github/usshaa/Cheatsheets/blob/main/Activity_5.ipynb\" target=\"_parent\"><img src=\"https://colab.research.google.com/assets/colab-badge.svg\" alt=\"Open In Colab\"/></a>"
      ]
    },
    {
      "cell_type": "markdown",
      "source": [
        "# Regression Model – Predicting Student Salary\n",
        "\n",
        "\n",
        "### 🎯 Objective:\n",
        "\n",
        "Build and evaluate a regression model to **predict the salary of placed students** based on academic and profile data."
      ],
      "metadata": {
        "id": "kSSKA3aClMIC"
      }
    },
    {
      "cell_type": "markdown",
      "source": [
        "## ✅ Exercise: Predicting Salary of Placed Students"
      ],
      "metadata": {
        "id": "fbmeFT4KlXmy"
      }
    },
    {
      "cell_type": "markdown",
      "source": [
        "### 🔶 Step 1: Import Libraries"
      ],
      "metadata": {
        "id": "RWM1SfjXlcUJ"
      }
    },
    {
      "cell_type": "code",
      "source": [],
      "metadata": {
        "id": "-crN1mRSTUnj"
      },
      "execution_count": null,
      "outputs": []
    },
    {
      "cell_type": "markdown",
      "source": [
        "### 🔶 Step 2: Load and Filter Dataset"
      ],
      "metadata": {
        "id": "zijkhN5SlewF"
      }
    },
    {
      "cell_type": "code",
      "source": [
        "# Load the cleaned dataset\n"
      ],
      "metadata": {
        "id": "fesZDTjWlf_G"
      },
      "execution_count": 37,
      "outputs": []
    },
    {
      "cell_type": "code",
      "source": [
        "# Use only placed students with valid salary values\n"
      ],
      "metadata": {
        "id": "Dj34otILliaU"
      },
      "execution_count": null,
      "outputs": []
    },
    {
      "cell_type": "markdown",
      "source": [
        "### 🔶 Step 3: Define Features and Target"
      ],
      "metadata": {
        "id": "hlUG149AllBY"
      }
    },
    {
      "cell_type": "code",
      "source": [],
      "metadata": {
        "id": "si4GlocPlo3z"
      },
      "execution_count": null,
      "outputs": []
    },
    {
      "cell_type": "code",
      "source": [
        "# One-hot encode categorical variables\n"
      ],
      "metadata": {
        "id": "CmHYB5YYlpgI"
      },
      "execution_count": null,
      "outputs": []
    },
    {
      "cell_type": "markdown",
      "source": [
        "### 🔶 Step 4: Train-Test Split"
      ],
      "metadata": {
        "id": "eX1E-0mPlrtJ"
      }
    },
    {
      "cell_type": "code",
      "source": [],
      "metadata": {
        "id": "B_j4_PvxluKg"
      },
      "execution_count": null,
      "outputs": []
    },
    {
      "cell_type": "markdown",
      "source": [
        "### 🔶 Step 5: Feature Scaling\n"
      ],
      "metadata": {
        "id": "550Ye40Plukp"
      }
    },
    {
      "cell_type": "code",
      "source": [],
      "metadata": {
        "id": "fMCll2_hlxyg"
      },
      "execution_count": null,
      "outputs": []
    },
    {
      "cell_type": "markdown",
      "source": [
        "### 🔶 Step 6: Train Regression Model"
      ],
      "metadata": {
        "id": "IfglXmLBlzKQ"
      }
    },
    {
      "cell_type": "code",
      "source": [],
      "metadata": {
        "id": "W5WO3DAil1XM"
      },
      "execution_count": null,
      "outputs": []
    },
    {
      "cell_type": "markdown",
      "source": [
        "### 🔶 Step 7: Model Evaluation\n"
      ],
      "metadata": {
        "id": "SuUH5eb-l2B0"
      }
    },
    {
      "cell_type": "code",
      "source": [],
      "metadata": {
        "id": "0Me6Hl4Al46A"
      },
      "execution_count": null,
      "outputs": []
    },
    {
      "cell_type": "markdown",
      "source": [
        "### 🔶 Step 8: Visualize Actual vs Predicted"
      ],
      "metadata": {
        "id": "H5Kb3PB1l5hm"
      }
    },
    {
      "cell_type": "code",
      "source": [],
      "metadata": {
        "id": "UOvXaXjWl8Ec"
      },
      "execution_count": null,
      "outputs": []
    },
    {
      "cell_type": "markdown",
      "source": [
        "### 🔶 Step 9: Feature Importance (Optional)\n"
      ],
      "metadata": {
        "id": "X3qoCE8Yl8gC"
      }
    },
    {
      "cell_type": "code",
      "source": [],
      "metadata": {
        "id": "rS3igIdRmClg"
      },
      "execution_count": null,
      "outputs": []
    },
    {
      "cell_type": "markdown",
      "source": [
        "Would you like to:\n",
        "\n",
        "* Try another regressor (e.g., Linear Regression, XGBoost)?\n",
        "* Perform cross-validation or hyperparameter tuning?\n",
        "* Deploy this model as an API?\n"
      ],
      "metadata": {
        "id": "s9NtblMcmDTb"
      }
    },
    {
      "cell_type": "code",
      "source": [],
      "metadata": {
        "id": "-hI8gPExmEtB"
      },
      "execution_count": null,
      "outputs": []
    }
  ]
}